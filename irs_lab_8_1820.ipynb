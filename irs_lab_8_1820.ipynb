{
  "nbformat": 4,
  "nbformat_minor": 0,
  "metadata": {
    "colab": {
      "provenance": []
    },
    "kernelspec": {
      "name": "python3",
      "display_name": "Python 3"
    },
    "language_info": {
      "name": "python"
    }
  },
  "cells": [
    {
      "cell_type": "code",
      "source": [
        "import nltk\n",
        "nltk.download('punkt_tab')"
      ],
      "metadata": {
        "colab": {
          "base_uri": "https://localhost:8080/"
        },
        "id": "qt4eLRj4PcN8",
        "outputId": "d41fb68b-4553-4df8-f405-a9f3d03b5c1d"
      },
      "execution_count": 8,
      "outputs": [
        {
          "output_type": "stream",
          "name": "stderr",
          "text": [
            "[nltk_data] Downloading package punkt_tab to /root/nltk_data...\n",
            "[nltk_data]   Unzipping tokenizers/punkt_tab.zip.\n"
          ]
        },
        {
          "output_type": "execute_result",
          "data": {
            "text/plain": [
              "True"
            ]
          },
          "metadata": {},
          "execution_count": 8
        }
      ]
    },
    {
      "cell_type": "code",
      "source": [
        "import nltk\n",
        "nltk.download('averaged_perceptron_tagger_eng')"
      ],
      "metadata": {
        "colab": {
          "base_uri": "https://localhost:8080/"
        },
        "id": "V2EWIwvTPkx6",
        "outputId": "f1887018-5416-46c1-fc3a-273ca1bd4944"
      },
      "execution_count": 10,
      "outputs": [
        {
          "output_type": "stream",
          "name": "stderr",
          "text": [
            "[nltk_data] Downloading package averaged_perceptron_tagger_eng to\n",
            "[nltk_data]     /root/nltk_data...\n",
            "[nltk_data]   Unzipping taggers/averaged_perceptron_tagger_eng.zip.\n"
          ]
        },
        {
          "output_type": "execute_result",
          "data": {
            "text/plain": [
              "True"
            ]
          },
          "metadata": {},
          "execution_count": 10
        }
      ]
    },
    {
      "cell_type": "code",
      "source": [
        "import nltk\n",
        "nltk.download('maxent_ne_chunker_tab')"
      ],
      "metadata": {
        "colab": {
          "base_uri": "https://localhost:8080/"
        },
        "id": "4KoBlD_rP8mV",
        "outputId": "c65dc51b-7aa9-4a18-a4e4-d51d466beaf6"
      },
      "execution_count": 12,
      "outputs": [
        {
          "output_type": "stream",
          "name": "stderr",
          "text": [
            "[nltk_data] Downloading package maxent_ne_chunker_tab to\n",
            "[nltk_data]     /root/nltk_data...\n",
            "[nltk_data]   Unzipping chunkers/maxent_ne_chunker_tab.zip.\n"
          ]
        },
        {
          "output_type": "execute_result",
          "data": {
            "text/plain": [
              "True"
            ]
          },
          "metadata": {},
          "execution_count": 12
        }
      ]
    },
    {
      "cell_type": "code",
      "source": [
        "import nltk\n",
        "nltk.download('words')"
      ],
      "metadata": {
        "colab": {
          "base_uri": "https://localhost:8080/"
        },
        "id": "oilCl7kUQKik",
        "outputId": "c4dd90aa-7f79-4d16-ba9a-e22d3176fc95"
      },
      "execution_count": 6,
      "outputs": [
        {
          "output_type": "stream",
          "name": "stderr",
          "text": [
            "[nltk_data] Downloading package words to /root/nltk_data...\n",
            "[nltk_data]   Package words is already up-to-date!\n"
          ]
        },
        {
          "output_type": "execute_result",
          "data": {
            "text/plain": [
              "True"
            ]
          },
          "metadata": {},
          "execution_count": 6
        }
      ]
    },
    {
      "cell_type": "code",
      "source": [
        "\n",
        "!pip install nltk spacy tabulate\n",
        "\n",
        "import nltk\n",
        "import spacy\n",
        "from nltk import word_tokenize, pos_tag, ne_chunk\n",
        "from nltk.tree import Tree\n",
        "from tabulate import tabulate\n",
        "nltk.download('punkt')\n",
        "nltk.download('averaged_perceptron_tagger')\n",
        "nltk.download('maxent_ne_chunker')\n",
        "nltk.download('words')\n",
        "\n",
        "\n",
        "text = '''alan musk said, \"The mission of xAI and Grok is to understand the universe.\n",
        "We want to answer the biggest questions: Where are the aliens? What’s the meaning of life?\n",
        "How does the universe end? To do that, we must rigorously pursue truth.”'''\n",
        "\n",
        "\n",
        "tokens = word_tokenize(text)\n",
        "pos_tags = pos_tag(tokens)\n",
        "ne_tree = ne_chunk(pos_tags)\n",
        "\n",
        "\n",
        "nltk_entities = []\n",
        "for subtree in ne_tree:\n",
        "    if isinstance(subtree, Tree):\n",
        "        entity_name = \" \".join([token for token, pos in subtree.leaves()])\n",
        "        entity_type = subtree.label()\n",
        "        nltk_entities.append([entity_name, entity_type, 'NLTK'])\n",
        "\n",
        "\n",
        "print(\"NLTK Named Entity Parse Tree:\")\n",
        "ne_tree.pretty_print()\n",
        "\n",
        "\n",
        "nlp = spacy.load(\"en_core_web_sm\")\n",
        "doc = nlp(text)\n",
        "\n",
        "spacy_entities = []\n",
        "for ent in doc.ents:\n",
        "    spacy_entities.append([ent.text, ent.label_, 'spaCy'])\n",
        "\n",
        "\n",
        "all_entities = nltk_entities + spacy_entities\n",
        "headers = [\"Entity\", \"Label\", \"Library\"]\n",
        "print(\"\\nNamed Entities (Tabular Form):\")\n",
        "print(tabulate(all_entities, headers=headers, tablefmt=\"grid\"))\n",
        "\n",
        "\n",
        "ground_truth = set([\n",
        "    ('alan', 'PERSON'),\n",
        "    ('musk', 'ORG'),\n",
        "    ('Grok', 'ORG')\n",
        "])\n",
        "\n",
        "\n",
        "predicted = set([(e[0], e[1]) for e in all_entities])\n",
        "\n",
        "\n",
        "TP = len(ground_truth & predicted)\n",
        "FP = len(predicted - ground_truth)\n",
        "FN = len(ground_truth - predicted)\n",
        "\n",
        "precision = TP / (TP + FP) if TP + FP != 0 else 0\n",
        "recall = TP / (TP + FN) if TP + FN != 0 else 0\n",
        "f1_score = 2 * precision * recall / (precision + recall) if precision + recall != 0 else 0\n",
        "\n",
        "print(\"\\nNER Evaluation Metrics:\")\n",
        "metrics_table = [[\"Precision\", round(precision, 2)],\n",
        "                 [\"Recall\", round(recall, 2)],\n",
        "                 [\"F1 Score\", round(f1_score, 2)]]\n",
        "print(tabulate(metrics_table, headers=[\"Metric\", \"Value\"], tablefmt=\"grid\"))\n",
        "\n",
        "\n",
        "report = \"\"\"\n",
        "Common Named Entity Types:\n",
        "- PERSON: People, including fictional.\n",
        "- ORG: Companies, agencies, institutions, etc.\n",
        "- GPE: Countries, cities, states.\n",
        "- LOC: Non-GPE locations, mountain ranges, bodies of water.\n",
        "- DATE: Absolute or relative dates or periods.\n",
        "- TIME: Times smaller than a day.\n",
        "\"\"\"\n",
        "print(report)\n"
      ],
      "metadata": {
        "colab": {
          "base_uri": "https://localhost:8080/"
        },
        "id": "Fsb-CUf5PLvl",
        "outputId": "79dc3098-eae2-4ca6-8203-51b20bb1f7ce"
      },
      "execution_count": 17,
      "outputs": [
        {
          "output_type": "stream",
          "name": "stdout",
          "text": [
            "Requirement already satisfied: nltk in /usr/local/lib/python3.11/dist-packages (3.9.1)\n",
            "Requirement already satisfied: spacy in /usr/local/lib/python3.11/dist-packages (3.7.5)\n",
            "Requirement already satisfied: tabulate in /usr/local/lib/python3.11/dist-packages (0.9.0)\n",
            "Requirement already satisfied: click in /usr/local/lib/python3.11/dist-packages (from nltk) (8.1.8)\n",
            "Requirement already satisfied: joblib in /usr/local/lib/python3.11/dist-packages (from nltk) (1.4.2)\n",
            "Requirement already satisfied: regex>=2021.8.3 in /usr/local/lib/python3.11/dist-packages (from nltk) (2024.11.6)\n",
            "Requirement already satisfied: tqdm in /usr/local/lib/python3.11/dist-packages (from nltk) (4.67.1)\n",
            "Requirement already satisfied: spacy-legacy<3.1.0,>=3.0.11 in /usr/local/lib/python3.11/dist-packages (from spacy) (3.0.12)\n",
            "Requirement already satisfied: spacy-loggers<2.0.0,>=1.0.0 in /usr/local/lib/python3.11/dist-packages (from spacy) (1.0.5)\n",
            "Requirement already satisfied: murmurhash<1.1.0,>=0.28.0 in /usr/local/lib/python3.11/dist-packages (from spacy) (1.0.12)\n",
            "Requirement already satisfied: cymem<2.1.0,>=2.0.2 in /usr/local/lib/python3.11/dist-packages (from spacy) (2.0.11)\n",
            "Requirement already satisfied: preshed<3.1.0,>=3.0.2 in /usr/local/lib/python3.11/dist-packages (from spacy) (3.0.9)\n",
            "Requirement already satisfied: thinc<8.3.0,>=8.2.2 in /usr/local/lib/python3.11/dist-packages (from spacy) (8.2.5)\n",
            "Requirement already satisfied: wasabi<1.2.0,>=0.9.1 in /usr/local/lib/python3.11/dist-packages (from spacy) (1.1.3)\n",
            "Requirement already satisfied: srsly<3.0.0,>=2.4.3 in /usr/local/lib/python3.11/dist-packages (from spacy) (2.5.1)\n",
            "Requirement already satisfied: catalogue<2.1.0,>=2.0.6 in /usr/local/lib/python3.11/dist-packages (from spacy) (2.0.10)\n",
            "Requirement already satisfied: weasel<0.5.0,>=0.1.0 in /usr/local/lib/python3.11/dist-packages (from spacy) (0.4.1)\n",
            "Requirement already satisfied: typer<1.0.0,>=0.3.0 in /usr/local/lib/python3.11/dist-packages (from spacy) (0.15.2)\n",
            "Requirement already satisfied: requests<3.0.0,>=2.13.0 in /usr/local/lib/python3.11/dist-packages (from spacy) (2.32.3)\n",
            "Requirement already satisfied: pydantic!=1.8,!=1.8.1,<3.0.0,>=1.7.4 in /usr/local/lib/python3.11/dist-packages (from spacy) (2.10.6)\n",
            "Requirement already satisfied: jinja2 in /usr/local/lib/python3.11/dist-packages (from spacy) (3.1.6)\n",
            "Requirement already satisfied: setuptools in /usr/local/lib/python3.11/dist-packages (from spacy) (75.1.0)\n",
            "Requirement already satisfied: packaging>=20.0 in /usr/local/lib/python3.11/dist-packages (from spacy) (24.2)\n",
            "Requirement already satisfied: langcodes<4.0.0,>=3.2.0 in /usr/local/lib/python3.11/dist-packages (from spacy) (3.5.0)\n",
            "Requirement already satisfied: numpy>=1.19.0 in /usr/local/lib/python3.11/dist-packages (from spacy) (1.26.4)\n",
            "Requirement already satisfied: language-data>=1.2 in /usr/local/lib/python3.11/dist-packages (from langcodes<4.0.0,>=3.2.0->spacy) (1.3.0)\n",
            "Requirement already satisfied: annotated-types>=0.6.0 in /usr/local/lib/python3.11/dist-packages (from pydantic!=1.8,!=1.8.1,<3.0.0,>=1.7.4->spacy) (0.7.0)\n",
            "Requirement already satisfied: pydantic-core==2.27.2 in /usr/local/lib/python3.11/dist-packages (from pydantic!=1.8,!=1.8.1,<3.0.0,>=1.7.4->spacy) (2.27.2)\n",
            "Requirement already satisfied: typing-extensions>=4.12.2 in /usr/local/lib/python3.11/dist-packages (from pydantic!=1.8,!=1.8.1,<3.0.0,>=1.7.4->spacy) (4.12.2)\n",
            "Requirement already satisfied: charset-normalizer<4,>=2 in /usr/local/lib/python3.11/dist-packages (from requests<3.0.0,>=2.13.0->spacy) (3.4.1)\n",
            "Requirement already satisfied: idna<4,>=2.5 in /usr/local/lib/python3.11/dist-packages (from requests<3.0.0,>=2.13.0->spacy) (3.10)\n",
            "Requirement already satisfied: urllib3<3,>=1.21.1 in /usr/local/lib/python3.11/dist-packages (from requests<3.0.0,>=2.13.0->spacy) (2.3.0)\n",
            "Requirement already satisfied: certifi>=2017.4.17 in /usr/local/lib/python3.11/dist-packages (from requests<3.0.0,>=2.13.0->spacy) (2025.1.31)\n",
            "Requirement already satisfied: blis<0.8.0,>=0.7.8 in /usr/local/lib/python3.11/dist-packages (from thinc<8.3.0,>=8.2.2->spacy) (0.7.11)\n",
            "Requirement already satisfied: confection<1.0.0,>=0.0.1 in /usr/local/lib/python3.11/dist-packages (from thinc<8.3.0,>=8.2.2->spacy) (0.1.5)\n",
            "Requirement already satisfied: shellingham>=1.3.0 in /usr/local/lib/python3.11/dist-packages (from typer<1.0.0,>=0.3.0->spacy) (1.5.4)\n",
            "Requirement already satisfied: rich>=10.11.0 in /usr/local/lib/python3.11/dist-packages (from typer<1.0.0,>=0.3.0->spacy) (13.9.4)\n",
            "Requirement already satisfied: cloudpathlib<1.0.0,>=0.7.0 in /usr/local/lib/python3.11/dist-packages (from weasel<0.5.0,>=0.1.0->spacy) (0.21.0)\n",
            "Requirement already satisfied: smart-open<8.0.0,>=5.2.1 in /usr/local/lib/python3.11/dist-packages (from weasel<0.5.0,>=0.1.0->spacy) (7.1.0)\n",
            "Requirement already satisfied: MarkupSafe>=2.0 in /usr/local/lib/python3.11/dist-packages (from jinja2->spacy) (3.0.2)\n",
            "Requirement already satisfied: marisa-trie>=1.1.0 in /usr/local/lib/python3.11/dist-packages (from language-data>=1.2->langcodes<4.0.0,>=3.2.0->spacy) (1.2.1)\n",
            "Requirement already satisfied: markdown-it-py>=2.2.0 in /usr/local/lib/python3.11/dist-packages (from rich>=10.11.0->typer<1.0.0,>=0.3.0->spacy) (3.0.0)\n",
            "Requirement already satisfied: pygments<3.0.0,>=2.13.0 in /usr/local/lib/python3.11/dist-packages (from rich>=10.11.0->typer<1.0.0,>=0.3.0->spacy) (2.18.0)\n",
            "Requirement already satisfied: wrapt in /usr/local/lib/python3.11/dist-packages (from smart-open<8.0.0,>=5.2.1->weasel<0.5.0,>=0.1.0->spacy) (1.17.2)\n",
            "Requirement already satisfied: mdurl~=0.1 in /usr/local/lib/python3.11/dist-packages (from markdown-it-py>=2.2.0->rich>=10.11.0->typer<1.0.0,>=0.3.0->spacy) (0.1.2)\n"
          ]
        },
        {
          "output_type": "stream",
          "name": "stderr",
          "text": [
            "[nltk_data] Downloading package punkt to /root/nltk_data...\n",
            "[nltk_data]   Package punkt is already up-to-date!\n",
            "[nltk_data] Downloading package averaged_perceptron_tagger to\n",
            "[nltk_data]     /root/nltk_data...\n",
            "[nltk_data]   Package averaged_perceptron_tagger is already up-to-\n",
            "[nltk_data]       date!\n",
            "[nltk_data] Downloading package maxent_ne_chunker to\n",
            "[nltk_data]     /root/nltk_data...\n",
            "[nltk_data]   Package maxent_ne_chunker is already up-to-date!\n",
            "[nltk_data] Downloading package words to /root/nltk_data...\n",
            "[nltk_data]   Package words is already up-to-date!\n"
          ]
        },
        {
          "output_type": "stream",
          "name": "stdout",
          "text": [
            "NLTK Named Entity Parse Tree:\n",
            "                                                                                                                                                                                                                             S                                                                                                                                                                                                               \n",
            "    _________________________________________________________________________________________________________________________________________________________________________________________________________________________|__________________________________________________________________________________________________________________________________________________________________________________________________________      \n",
            "   |       |       |      |    |     |        |        |     |      |      |         |         |         |       |    |       |       |       |       |         |            |        |     |        |      |        |       |     |      |     |     |        |        |      |     |     |       |       |         |        |     |    |     |      |     |    |       |          |           |        |      |   |   ORGANIZATION   GPE   \n",
            "   |       |       |      |    |     |        |        |     |      |      |         |         |         |       |    |       |       |       |       |         |            |        |     |        |      |        |       |     |      |     |     |        |        |      |     |     |       |       |         |        |     |    |     |      |     |    |       |          |           |        |      |   |        |          |     \n",
            "alan/NN musk/NN said/VBD ,/, ``/`` The/DT mission/NN of/IN and/CC is/VBZ to/TO understand/VB the/DT universe/NN ./. We/PRP want/VBP to/TO answer/VB the/DT biggest/JJS questions/NNS :/: Where/EX are/VBP the/DT aliens/NNS ?/. What/WP ’/VBD s/VBP the/DT meaning/NN of/IN life/NN ?/. How/WRB does/VBZ the/DT universe/JJ end/NN ?/. To/TO do/VB that/DT ,/, we/PRP must/MD rigorously/RB pursue/VB truth/NN ./. ”/NN    xAI/NN    Grok/NNP\n",
            "\n",
            "\n",
            "Named Entities (Tabular Form):\n",
            "+-----------+--------------+-----------+\n",
            "| Entity    | Label        | Library   |\n",
            "+===========+==============+===========+\n",
            "| xAI       | ORGANIZATION | NLTK      |\n",
            "+-----------+--------------+-----------+\n",
            "| Grok      | GPE          | NLTK      |\n",
            "+-----------+--------------+-----------+\n",
            "| alan musk | PERSON       | spaCy     |\n",
            "+-----------+--------------+-----------+\n",
            "| Grok      | PERSON       | spaCy     |\n",
            "+-----------+--------------+-----------+\n",
            "\n",
            "NER Evaluation Metrics:\n",
            "+-----------+---------+\n",
            "| Metric    |   Value |\n",
            "+===========+=========+\n",
            "| Precision |       0 |\n",
            "+-----------+---------+\n",
            "| Recall    |       0 |\n",
            "+-----------+---------+\n",
            "| F1 Score  |       0 |\n",
            "+-----------+---------+\n",
            "\n",
            "Common Named Entity Types:\n",
            "- PERSON: People, including fictional.\n",
            "- ORG: Companies, agencies, institutions, etc.\n",
            "- GPE: Countries, cities, states.\n",
            "- LOC: Non-GPE locations, mountain ranges, bodies of water.\n",
            "- DATE: Absolute or relative dates or periods.\n",
            "- TIME: Times smaller than a day.\n",
            "\n"
          ]
        }
      ]
    }
  ]
}