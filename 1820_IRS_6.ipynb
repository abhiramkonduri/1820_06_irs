{
 "cells": [
  {
   "cell_type": "code",
   "execution_count": null,
   "id": "f35fb72a",
   "metadata": {},
   "outputs": [],
   "source": [
    "\n",
    "import nltk\n",
    "import random\n",
    "import re\n",
    "import numpy as np\n",
    "import pandas as pd\n",
    "import matplotlib.pyplot as plt\n",
    "from collections import defaultdict, Counter\n",
    "from nltk.util import ngrams\n",
    "from nltk.tokenize import word_tokenize\n",
    "nltk.download('punkt')\n",
    "    "
   ]
  },
  {
   "cell_type": "code",
   "execution_count": null,
   "id": "9fc58bd7",
   "metadata": {},
   "outputs": [],
   "source": [
    "\n",
    "# Sample text\n",
    "text = \"This is a simple example to demonstrate N-gram language modeling. This is just a test.\"\n",
    "\n",
    "# Preprocessing\n",
    "text = text.lower()\n",
    "text = re.sub(r'[^\\w\\s]', '', text)  # Remove punctuation\n",
    "tokens = word_tokenize(text)\n",
    "    "
   ]
  },
  {
   "cell_type": "code",
   "execution_count": null,
   "id": "02144ffb",
   "metadata": {},
   "outputs": [],
   "source": [
    "\n",
    "# Generate N-grams\n",
    "def generate_ngrams(tokens, n):\n",
    "    return list(ngrams(tokens, n))\n",
    "\n",
    "unigrams = generate_ngrams(tokens, 1)\n",
    "bigrams = generate_ngrams(tokens, 2)\n",
    "trigrams = generate_ngrams(tokens, 3)\n",
    "    "
   ]
  },
  {
   "cell_type": "code",
   "execution_count": null,
   "id": "f806cb8a",
   "metadata": {},
   "outputs": [],
   "source": [
    "\n",
    "# Compute probabilities\n",
    "def calculate_probabilities(ngrams_list):\n",
    "    counts = Counter(ngrams_list)\n",
    "    total_count = sum(counts.values())\n",
    "    probabilities = {ngram: count / total_count for ngram, count in counts.items()}\n",
    "    return probabilities\n",
    "\n",
    "trigram_probs = calculate_probabilities(trigrams)\n",
    "    "
   ]
  },
  {
   "cell_type": "code",
   "execution_count": null,
   "id": "910b80e1",
   "metadata": {},
   "outputs": [],
   "source": [
    "\n",
    "# Generate text\n",
    "def generate_text(seed_words, length):\n",
    "    sentence = list(seed_words)\n",
    "    for _ in range(length):\n",
    "        possible_trigrams = [trigram for trigram in trigram_probs if trigram[:2] == tuple(sentence[-2:])]\n",
    "        if not possible_trigrams:\n",
    "            break\n",
    "        next_word = random.choices([trigram[2] for trigram in possible_trigrams], \n",
    "                                   weights=[trigram_probs[tg] for tg in possible_trigrams])[0]\n",
    "        sentence.append(next_word)\n",
    "    return ' '.join(sentence)\n",
    "\n",
    "# Example usage\n",
    "print(\"Generated Text:\", generate_text((\"this\", \"is\"), 5))\n",
    "    "
   ]
  },
  {
   "cell_type": "code",
   "execution_count": null,
   "id": "a0ec5fb7",
   "metadata": {},
   "outputs": [],
   "source": [
    "\n",
    "# Generate N-grams for 1 to 5\n",
    "def generate_ngram_counts(tokens, n):\n",
    "    ngrams_list = generate_ngrams(tokens, n)\n",
    "    return Counter(ngrams_list)\n",
    "\n",
    "ngram_counts = {n: generate_ngram_counts(tokens, n) for n in range(1, 6)}\n",
    "\n",
    "# Convert to DataFrame for analysis\n",
    "df = pd.DataFrame({n: list(ngram_counts[n].values()) for n in range(1, 6)})\n",
    "df.plot(kind='bar', figsize=(10, 5), title=\"N-gram Frequency Distribution\")\n",
    "plt.show()\n",
    "    "
   ]
  },
  {
   "cell_type": "code",
   "execution_count": null,
   "id": "e5e32de9",
   "metadata": {},
   "outputs": [],
   "source": [
    "\n",
    "# Read text file\n",
    "with open(\"sample.txt\", \"r\") as file:\n",
    "    text = file.read().lower()\n",
    "\n",
    "text = re.sub(r'[^\\w\\s]', '', text)\n",
    "tokens = word_tokenize(text)\n",
    "\n",
    "# Generate N-grams and their frequencies\n",
    "unigram_freq = Counter(generate_ngrams(tokens, 1))\n",
    "bigram_freq = Counter(generate_ngrams(tokens, 2))\n",
    "trigram_freq = Counter(generate_ngrams(tokens, 3))\n",
    "\n",
    "print(\"Unigrams:\", unigram_freq.most_common(10))\n",
    "print(\"Bigrams:\", bigram_freq.most_common(10))\n",
    "print(\"Trigrams:\", trigram_freq.most_common(10))\n",
    "    "
   ]
  },
  {
   "cell_type": "code",
   "execution_count": null,
   "id": "74f0d50e",
   "metadata": {},
   "outputs": [],
   "source": [
    "\n",
    "# Sample domain-specific text (e.g., social media)\n",
    "text = \"omg this new phone is awesome!!! can't wait to try it #excited\"\n",
    "\n",
    "# Domain-specific preprocessing\n",
    "text = text.lower()\n",
    "text = re.sub(r'#[\\w]+', '', text)  # Remove hashtags\n",
    "text = re.sub(r'[^\\w\\s]', '', text)  # Remove punctuation\n",
    "tokens = word_tokenize(text)\n",
    "\n",
    "# Generate and compute probabilities\n",
    "trigram_probs = calculate_probabilities(generate_ngrams(tokens, 3))\n",
    "\n",
    "print(\"Top Trigrams:\", sorted(trigram_probs.items(), key=lambda x: -x[1])[:5])\n",
    "    "
   ]
  }
 ],
 "metadata": {},
 "nbformat": 4,
 "nbformat_minor": 5
}